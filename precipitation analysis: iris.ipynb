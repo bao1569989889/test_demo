{
    "cells": [
        {
            "metadata": {},
            "cell_type": "code",
            "source": "\nimport ibmos2spark, os\n# @hidden_cell\ncredentials = {\n    'endpoint': 'https://s3.private.us.cloud-object-storage.appdomain.cloud',\n    'service_id': 'iam-ServiceId-495141f7-7992-4890-96d4-feb8c96ef50c',\n    'iam_service_endpoint': 'https://iam.cloud.ibm.com/oidc/token',\n    'api_key': '3oH5iF8R891SLlTjdktSAQEB0zXfrJbHVt1NND81W1cZ'\n}\n\nconfiguration_name = 'os_b062a9e6e492475bbe8f4ab5fd0de44f_configs'\ncos = ibmos2spark.CloudObjectStorage(sc, credentials, configuration_name, 'bluemix_cos')\n\nfrom pyspark.sql import SparkSession\nspark = SparkSession.builder.getOrCreate()\ndf_data_1 = spark.read\\\n  .format('org.apache.spark.sql.execution.datasources.csv.CSVFileFormat')\\\n  .option('header', 'true')\\\n  .load(cos.url('iris.csv', 'datascience-donotdelete-pr-2lb9wo743kysl0'))\ndf_data_1.take(5)\n",
            "execution_count": 1,
            "outputs": [
                {
                    "output_type": "execute_result",
                    "execution_count": 1,
                    "data": {
                        "text/plain": "[Row(_c0='1', Sepal.Length='5.1', Sepal.Width='3.5', Petal.Length='1.4', Petal.Width='0.2', Species='setosa'),\n Row(_c0='2', Sepal.Length='4.9', Sepal.Width='3', Petal.Length='1.4', Petal.Width='0.2', Species='setosa'),\n Row(_c0='3', Sepal.Length='4.7', Sepal.Width='3.2', Petal.Length='1.3', Petal.Width='0.2', Species='setosa'),\n Row(_c0='4', Sepal.Length='4.6', Sepal.Width='3.1', Petal.Length='1.5', Petal.Width='0.2', Species='setosa'),\n Row(_c0='5', Sepal.Length='5', Sepal.Width='3.6', Petal.Length='1.4', Petal.Width='0.2', Species='setosa')]"
                    },
                    "metadata": {}
                }
            ]
        },
        {
            "metadata": {},
            "cell_type": "code",
            "source": "",
            "execution_count": null,
            "outputs": []
        }
    ],
    "metadata": {
        "kernelspec": {
            "name": "python39",
            "display_name": "Python 3.9 with Spark",
            "language": "python3"
        },
        "language_info": {
            "name": "python",
            "version": "3.9.7",
            "mimetype": "text/x-python",
            "codemirror_mode": {
                "name": "ipython",
                "version": 3
            },
            "pygments_lexer": "ipython3",
            "nbconvert_exporter": "python",
            "file_extension": ".py"
        }
    },
    "nbformat": 4,
    "nbformat_minor": 1
}